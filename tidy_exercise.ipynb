{
 "cells": [
  {
   "cell_type": "code",
   "execution_count": 1,
   "id": "8187a7e0",
   "metadata": {},
   "outputs": [],
   "source": [
    "import pandas as pd\n",
    "from scipy import stats\n",
    "from pydataset import data\n",
    "import numpy as np\n",
    "import env\n",
    "import os\n",
    "import prepare\n",
    "import acquire\n",
    "import prepare\n",
    "from sklearn.model_selection import train_test_split\n",
    "from sklearn.impute import SimpleImputer\n",
    "import seaborn as sns\n",
    "\n",
    "import matplotlib.pyplot as plt"
   ]
  },
  {
   "cell_type": "markdown",
   "id": "f2756e40",
   "metadata": {},
   "source": [
    "Read the data from the attendance table and calculate an attendance percentage for each student. One half day is worth 50% of a full day, and 10 tardies is equal to one absence."
   ]
  },
  {
   "cell_type": "code",
   "execution_count": 6,
   "id": "3ac8411e",
   "metadata": {},
   "outputs": [
    {
     "data": {
      "text/html": [
       "<div>\n",
       "<style scoped>\n",
       "    .dataframe tbody tr th:only-of-type {\n",
       "        vertical-align: middle;\n",
       "    }\n",
       "\n",
       "    .dataframe tbody tr th {\n",
       "        vertical-align: top;\n",
       "    }\n",
       "\n",
       "    .dataframe thead th {\n",
       "        text-align: right;\n",
       "    }\n",
       "</style>\n",
       "<table border=\"1\" class=\"dataframe\">\n",
       "  <thead>\n",
       "    <tr style=\"text-align: right;\">\n",
       "      <th></th>\n",
       "      <th>Unnamed: 0</th>\n",
       "      <th>2018-01-01</th>\n",
       "      <th>2018-01-02</th>\n",
       "      <th>2018-01-03</th>\n",
       "      <th>2018-01-04</th>\n",
       "      <th>2018-01-05</th>\n",
       "      <th>2018-01-06</th>\n",
       "      <th>2018-01-07</th>\n",
       "      <th>2018-01-08</th>\n",
       "    </tr>\n",
       "  </thead>\n",
       "  <tbody>\n",
       "    <tr>\n",
       "      <th>0</th>\n",
       "      <td>Sally</td>\n",
       "      <td>P</td>\n",
       "      <td>T</td>\n",
       "      <td>T</td>\n",
       "      <td>H</td>\n",
       "      <td>P</td>\n",
       "      <td>A</td>\n",
       "      <td>T</td>\n",
       "      <td>T</td>\n",
       "    </tr>\n",
       "    <tr>\n",
       "      <th>1</th>\n",
       "      <td>Jane</td>\n",
       "      <td>A</td>\n",
       "      <td>P</td>\n",
       "      <td>T</td>\n",
       "      <td>T</td>\n",
       "      <td>T</td>\n",
       "      <td>T</td>\n",
       "      <td>A</td>\n",
       "      <td>T</td>\n",
       "    </tr>\n",
       "    <tr>\n",
       "      <th>2</th>\n",
       "      <td>Billy</td>\n",
       "      <td>A</td>\n",
       "      <td>T</td>\n",
       "      <td>A</td>\n",
       "      <td>A</td>\n",
       "      <td>H</td>\n",
       "      <td>T</td>\n",
       "      <td>P</td>\n",
       "      <td>T</td>\n",
       "    </tr>\n",
       "    <tr>\n",
       "      <th>3</th>\n",
       "      <td>John</td>\n",
       "      <td>P</td>\n",
       "      <td>T</td>\n",
       "      <td>H</td>\n",
       "      <td>P</td>\n",
       "      <td>P</td>\n",
       "      <td>T</td>\n",
       "      <td>P</td>\n",
       "      <td>P</td>\n",
       "    </tr>\n",
       "  </tbody>\n",
       "</table>\n",
       "</div>"
      ],
      "text/plain": [
       "  Unnamed: 0 2018-01-01 2018-01-02 2018-01-03 2018-01-04 2018-01-05  \\\n",
       "0      Sally          P          T          T          H          P   \n",
       "1       Jane          A          P          T          T          T   \n",
       "2      Billy          A          T          A          A          H   \n",
       "3       John          P          T          H          P          P   \n",
       "\n",
       "  2018-01-06 2018-01-07 2018-01-08  \n",
       "0          A          T          T  \n",
       "1          T          A          T  \n",
       "2          T          P          T  \n",
       "3          T          P          P  "
      ]
     },
     "execution_count": 6,
     "metadata": {},
     "output_type": "execute_result"
    }
   ],
   "source": [
    "#df_untidy = pd.read_sql('SELECT * FROM attendance', acquire.get_connection('tidy_db'))\n",
    "#df_untidy.head()\n",
    "\n",
    "df_untidy = pd.read_csv('tidy_attendance.csv')\n",
    "df_untidy\n",
    "\n",
    "df_untidy = df_untidy.pivot(index =  columns = \"unnamned:0\")"
   ]
  },
  {
   "cell_type": "code",
   "execution_count": null,
   "id": "4b011ed1",
   "metadata": {},
   "outputs": [],
   "source": []
  }
 ],
 "metadata": {
  "kernelspec": {
   "display_name": "Python 3 (ipykernel)",
   "language": "python",
   "name": "python3"
  },
  "language_info": {
   "codemirror_mode": {
    "name": "ipython",
    "version": 3
   },
   "file_extension": ".py",
   "mimetype": "text/x-python",
   "name": "python",
   "nbconvert_exporter": "python",
   "pygments_lexer": "ipython3",
   "version": "3.9.13"
  }
 },
 "nbformat": 4,
 "nbformat_minor": 5
}
