{
 "cells": [
  {
   "cell_type": "markdown",
   "metadata": {},
   "source": [
    "# Tidy Data\n",
    "\n",
    "> Leo Tolstoy said \"Happy families are all alike; every unhappy family is unhappy in its own way.\"<br />\n",
    "> \"Like families,\" Hadley Wickham said in his [Tidy Data](http://vita.had.co.nz/papers/tidy-data.html) Paper, \"tidy datasets are all alike but every messy dataset is messy in its own way.\"<br />\n",
    "\n",
    "\n",
    "**Key components of tidy data**\n",
    "\n",
    "| Component | Why Necessary |\n",
    "|:-----------|:---------------|\n",
    "| Data is tabular | Exploration, Modeling |\n",
    "| One value per cell | Exploration, Modeling |\n",
    "| Each observation is one and only one row | Exploration, Modeling |\n",
    "| Each variable is one and only one column | Exploration |\n",
    "\n",
    "If a dataset does not meet these requirements, then it is an untidy dataset. \n",
    "\n",
    "We will now examine the 4 cases of untidy data. \n",
    "\n",
    "<hr style=\"border:2px solid gray\">\n",
    "\n",
    "## Data is Tabular\n",
    "\n",
    "Tabular data is needed for exploration and modeling. \n",
    "\n",
    "An example of non-tabular data would be the text file, \"curriculum_access.txt\", that contains the following access logs of the web development curriculum:\n",
    "\n",
    "```\n",
    "2018-03-06 13:35:21 html-css/forms 132 23 97.105.19.61\n",
    "2018-03-06 13:35:23 slides/inheritance_and_polymorphism 29 22 97.105.19.61\n",
    "2018-03-06 13:35:41 html-css/forms 130 23 97.105.19.61\n",
    "2018-03-06 13:36:14 java-ii 19 22 97.105.19.61\n",
    "2018-03-06 13:36:16 java-ii/inheritance-and-polymorphism 19 22 97.105.19.61\n",
    "2018-03-06 13:36:17 slides/inheritance_and_polymorphism 19 22 97.105.19.61\n",
    "2018-03-06 13:36:19 java-ii/inheritance-and-polymorphism 35 22 97.105.19.61\n",
    "```\n",
    "\n",
    "To make this tabular, we can use string methods that will split this data into columns that represent the various variables that exist in this data. "
   ]
  },
  {
   "cell_type": "code",
   "execution_count": 1,
   "metadata": {},
   "outputs": [
    {
     "data": {
      "text/html": [
       "<div>\n",
       "<style scoped>\n",
       "    .dataframe tbody tr th:only-of-type {\n",
       "        vertical-align: middle;\n",
       "    }\n",
       "\n",
       "    .dataframe tbody tr th {\n",
       "        vertical-align: top;\n",
       "    }\n",
       "\n",
       "    .dataframe thead th {\n",
       "        text-align: right;\n",
       "    }\n",
       "</style>\n",
       "<table border=\"1\" class=\"dataframe\">\n",
       "  <thead>\n",
       "    <tr style=\"text-align: right;\">\n",
       "      <th></th>\n",
       "      <th>0</th>\n",
       "      <th>1</th>\n",
       "      <th>2</th>\n",
       "      <th>3</th>\n",
       "      <th>4</th>\n",
       "      <th>5</th>\n",
       "    </tr>\n",
       "  </thead>\n",
       "  <tbody>\n",
       "    <tr>\n",
       "      <th>0</th>\n",
       "      <td>2018-03-06</td>\n",
       "      <td>13:35:21</td>\n",
       "      <td>html-css/forms</td>\n",
       "      <td>132</td>\n",
       "      <td>23</td>\n",
       "      <td>97.105.19.61</td>\n",
       "    </tr>\n",
       "    <tr>\n",
       "      <th>1</th>\n",
       "      <td>2018-03-06</td>\n",
       "      <td>13:35:23</td>\n",
       "      <td>slides/inheritance_and_polymorphism</td>\n",
       "      <td>29</td>\n",
       "      <td>22</td>\n",
       "      <td>97.105.19.61</td>\n",
       "    </tr>\n",
       "    <tr>\n",
       "      <th>2</th>\n",
       "      <td>2018-03-06</td>\n",
       "      <td>13:35:41</td>\n",
       "      <td>html-css/forms</td>\n",
       "      <td>130</td>\n",
       "      <td>23</td>\n",
       "      <td>97.105.19.61</td>\n",
       "    </tr>\n",
       "    <tr>\n",
       "      <th>3</th>\n",
       "      <td>2018-03-06</td>\n",
       "      <td>13:36:14</td>\n",
       "      <td>java-ii</td>\n",
       "      <td>19</td>\n",
       "      <td>22</td>\n",
       "      <td>97.105.19.61</td>\n",
       "    </tr>\n",
       "    <tr>\n",
       "      <th>4</th>\n",
       "      <td>2018-03-06</td>\n",
       "      <td>13:36:16</td>\n",
       "      <td>java-ii/inheritance-and-polymorphism</td>\n",
       "      <td>19</td>\n",
       "      <td>22</td>\n",
       "      <td>97.105.19.61</td>\n",
       "    </tr>\n",
       "    <tr>\n",
       "      <th>5</th>\n",
       "      <td>2018-03-06</td>\n",
       "      <td>13:36:17</td>\n",
       "      <td>slides/inheritance_and_polymorphism</td>\n",
       "      <td>19</td>\n",
       "      <td>22</td>\n",
       "      <td>97.105.19.61</td>\n",
       "    </tr>\n",
       "    <tr>\n",
       "      <th>6</th>\n",
       "      <td>2018-03-06</td>\n",
       "      <td>13:36:19</td>\n",
       "      <td>java-ii/inheritance-and-polymorphism</td>\n",
       "      <td>35</td>\n",
       "      <td>22</td>\n",
       "      <td>97.105.19.61</td>\n",
       "    </tr>\n",
       "  </tbody>\n",
       "</table>\n",
       "</div>"
      ],
      "text/plain": [
       "            0         1                                     2    3   4  \\\n",
       "0  2018-03-06  13:35:21                        html-css/forms  132  23   \n",
       "1  2018-03-06  13:35:23   slides/inheritance_and_polymorphism   29  22   \n",
       "2  2018-03-06  13:35:41                        html-css/forms  130  23   \n",
       "3  2018-03-06  13:36:14                               java-ii   19  22   \n",
       "4  2018-03-06  13:36:16  java-ii/inheritance-and-polymorphism   19  22   \n",
       "5  2018-03-06  13:36:17   slides/inheritance_and_polymorphism   19  22   \n",
       "6  2018-03-06  13:36:19  java-ii/inheritance-and-polymorphism   35  22   \n",
       "\n",
       "              5  \n",
       "0  97.105.19.61  \n",
       "1  97.105.19.61  \n",
       "2  97.105.19.61  \n",
       "3  97.105.19.61  \n",
       "4  97.105.19.61  \n",
       "5  97.105.19.61  \n",
       "6  97.105.19.61  "
      ]
     },
     "execution_count": 1,
     "metadata": {},
     "output_type": "execute_result"
    }
   ],
   "source": [
    "import pandas as pd\n",
    "import numpy as np\n",
    "import matplotlib.pyplot as plt\n",
    "\n",
    "logs_list = ['2018-03-06 13:35:21 html-css/forms 132 23 97.105.19.61', \n",
    "             '2018-03-06 13:35:23 slides/inheritance_and_polymorphism 29 22 97.105.19.61', \n",
    "             '2018-03-06 13:35:41 html-css/forms 130 23 97.105.19.61',\n",
    "             '2018-03-06 13:36:14 java-ii 19 22 97.105.19.61',\n",
    "             '2018-03-06 13:36:16 java-ii/inheritance-and-polymorphism 19 22 97.105.19.61',\n",
    "             '2018-03-06 13:36:17 slides/inheritance_and_polymorphism 19 22 97.105.19.61',\n",
    "             '2018-03-06 13:36:19 java-ii/inheritance-and-polymorphism 35 22 97.105.19.61']\n",
    "logs_series = pd.Series(logs_list)\n",
    "logs_series.str.split(expand=True)"
   ]
  },
  {
   "cell_type": "markdown",
   "metadata": {},
   "source": [
    "Now, we meet the first requirement of tidy data. We have tabular data! \n",
    "\n",
    "<hr style=\"border:2px solid gray\">\n",
    "\n",
    "## One Value Per Cell\n",
    "\n",
    "The following table has multiple values in the City_State_Zip column. We will want to split that column into 3 different variables so that we can use one, all, some, or none of the variables in our analysis and modeling. "
   ]
  },
  {
   "cell_type": "code",
   "execution_count": 2,
   "metadata": {},
   "outputs": [
    {
     "data": {
      "text/html": [
       "<div>\n",
       "<style scoped>\n",
       "    .dataframe tbody tr th:only-of-type {\n",
       "        vertical-align: middle;\n",
       "    }\n",
       "\n",
       "    .dataframe tbody tr th {\n",
       "        vertical-align: top;\n",
       "    }\n",
       "\n",
       "    .dataframe thead th {\n",
       "        text-align: right;\n",
       "    }\n",
       "</style>\n",
       "<table border=\"1\" class=\"dataframe\">\n",
       "  <thead>\n",
       "    <tr style=\"text-align: right;\">\n",
       "      <th></th>\n",
       "      <th>Customer_ID</th>\n",
       "      <th>City_State_Zip</th>\n",
       "    </tr>\n",
       "  </thead>\n",
       "  <tbody>\n",
       "    <tr>\n",
       "      <th>0</th>\n",
       "      <td>001</td>\n",
       "      <td>Dallas, TX, 75205</td>\n",
       "    </tr>\n",
       "    <tr>\n",
       "      <th>1</th>\n",
       "      <td>002</td>\n",
       "      <td>San Antonio, TX, 78209</td>\n",
       "    </tr>\n",
       "    <tr>\n",
       "      <th>2</th>\n",
       "      <td>003</td>\n",
       "      <td>Bend, OR, 97701</td>\n",
       "    </tr>\n",
       "  </tbody>\n",
       "</table>\n",
       "</div>"
      ],
      "text/plain": [
       "  Customer_ID          City_State_Zip\n",
       "0         001       Dallas, TX, 75205\n",
       "1         002  San Antonio, TX, 78209\n",
       "2         003         Bend, OR, 97701"
      ]
     },
     "execution_count": 2,
     "metadata": {},
     "output_type": "execute_result"
    }
   ],
   "source": [
    "# create dataframe representing the untidy data\n",
    "\n",
    "untidy_df = pd.DataFrame({'Customer_ID': ['001', '002', '003'], \n",
    "                   'City_State_Zip': ['Dallas, TX, 75205', 'San Antonio, TX, 78209', 'Bend, OR, 97701']\n",
    "                  })\n",
    "\n",
    "untidy_df"
   ]
  },
  {
   "cell_type": "markdown",
   "metadata": {},
   "source": [
    "Split the column into multiple columns, and name those columns. "
   ]
  },
  {
   "cell_type": "code",
   "execution_count": 3,
   "metadata": {},
   "outputs": [
    {
     "data": {
      "text/html": [
       "<div>\n",
       "<style scoped>\n",
       "    .dataframe tbody tr th:only-of-type {\n",
       "        vertical-align: middle;\n",
       "    }\n",
       "\n",
       "    .dataframe tbody tr th {\n",
       "        vertical-align: top;\n",
       "    }\n",
       "\n",
       "    .dataframe thead th {\n",
       "        text-align: right;\n",
       "    }\n",
       "</style>\n",
       "<table border=\"1\" class=\"dataframe\">\n",
       "  <thead>\n",
       "    <tr style=\"text-align: right;\">\n",
       "      <th></th>\n",
       "      <th>City</th>\n",
       "      <th>State</th>\n",
       "      <th>Zip</th>\n",
       "    </tr>\n",
       "  </thead>\n",
       "  <tbody>\n",
       "    <tr>\n",
       "      <th>0</th>\n",
       "      <td>Dallas</td>\n",
       "      <td>TX</td>\n",
       "      <td>75205</td>\n",
       "    </tr>\n",
       "    <tr>\n",
       "      <th>1</th>\n",
       "      <td>San Antonio</td>\n",
       "      <td>TX</td>\n",
       "      <td>78209</td>\n",
       "    </tr>\n",
       "    <tr>\n",
       "      <th>2</th>\n",
       "      <td>Bend</td>\n",
       "      <td>OR</td>\n",
       "      <td>97701</td>\n",
       "    </tr>\n",
       "  </tbody>\n",
       "</table>\n",
       "</div>"
      ],
      "text/plain": [
       "          City State     Zip\n",
       "0       Dallas    TX   75205\n",
       "1  San Antonio    TX   78209\n",
       "2         Bend    OR   97701"
      ]
     },
     "execution_count": 3,
     "metadata": {},
     "output_type": "execute_result"
    }
   ],
   "source": [
    "# split the column into multiple columns\n",
    "new_vars = untidy_df.City_State_Zip.str.split(pat=',', expand=True)\n",
    "\n",
    "# rename the columns\n",
    "new_vars.columns = ['City', 'State', 'Zip']\n",
    "\n",
    "new_vars"
   ]
  },
  {
   "cell_type": "markdown",
   "metadata": {},
   "source": [
    "Now, we need to concatenate the new columns to the original dataframe and drop the original column. "
   ]
  },
  {
   "cell_type": "code",
   "execution_count": 4,
   "metadata": {},
   "outputs": [
    {
     "data": {
      "text/html": [
       "<div>\n",
       "<style scoped>\n",
       "    .dataframe tbody tr th:only-of-type {\n",
       "        vertical-align: middle;\n",
       "    }\n",
       "\n",
       "    .dataframe tbody tr th {\n",
       "        vertical-align: top;\n",
       "    }\n",
       "\n",
       "    .dataframe thead th {\n",
       "        text-align: right;\n",
       "    }\n",
       "</style>\n",
       "<table border=\"1\" class=\"dataframe\">\n",
       "  <thead>\n",
       "    <tr style=\"text-align: right;\">\n",
       "      <th></th>\n",
       "      <th>Customer_ID</th>\n",
       "      <th>City</th>\n",
       "      <th>State</th>\n",
       "      <th>Zip</th>\n",
       "    </tr>\n",
       "  </thead>\n",
       "  <tbody>\n",
       "    <tr>\n",
       "      <th>0</th>\n",
       "      <td>001</td>\n",
       "      <td>Dallas</td>\n",
       "      <td>TX</td>\n",
       "      <td>75205</td>\n",
       "    </tr>\n",
       "    <tr>\n",
       "      <th>1</th>\n",
       "      <td>002</td>\n",
       "      <td>San Antonio</td>\n",
       "      <td>TX</td>\n",
       "      <td>78209</td>\n",
       "    </tr>\n",
       "    <tr>\n",
       "      <th>2</th>\n",
       "      <td>003</td>\n",
       "      <td>Bend</td>\n",
       "      <td>OR</td>\n",
       "      <td>97701</td>\n",
       "    </tr>\n",
       "  </tbody>\n",
       "</table>\n",
       "</div>"
      ],
      "text/plain": [
       "  Customer_ID         City State     Zip\n",
       "0         001       Dallas    TX   75205\n",
       "1         002  San Antonio    TX   78209\n",
       "2         003         Bend    OR   97701"
      ]
     },
     "execution_count": 4,
     "metadata": {},
     "output_type": "execute_result"
    }
   ],
   "source": [
    "# Concatenate new columns to the original dataframe\n",
    "untidy_df = pd.concat([untidy_df, new_vars], axis=1)\n",
    "\n",
    "# drop the original column\n",
    "tidy_df = untidy_df.drop(columns=['City_State_Zip'])\n",
    "\n",
    "tidy_df"
   ]
  },
  {
   "cell_type": "markdown",
   "metadata": {},
   "source": [
    "Now, we meet the second requirement of tidy data. We have one variable per column!\n",
    "\n",
    "<hr style=\"border:2px solid gray\">\n",
    "\n",
    "## Each row is one and only one observation\n",
    "\n",
    "An observation is the level at which you want to analyze your data and/or make predictions. \n",
    "\n",
    "For example: \n",
    "- When making predictions on housing prices, an observation is a single property (property id). \n",
    "- When predicting whether or not a customer will churn, an observation is a customer (customer id). \n",
    "- When predicting student success in school, an observation is a student (student id). \n",
    "- When predicting whether a passenger will survive the titanic, an observation is a passenger (passenger id). \n",
    "- When analyzing customer reviews of products, an observation is a review (review id). \n",
    "\n",
    "When the data from an observation is scattered across multiple rows, then it is difficult to explore and impossible to model. \n",
    "\n",
    "Datasets that are untidy in this way are often referred to as **tall datasets**. \n",
    "\n",
    "Here is some *fictional* data on Codeup students. "
   ]
  },
  {
   "cell_type": "code",
   "execution_count": 5,
   "metadata": {},
   "outputs": [
    {
     "ename": "AttributeError",
     "evalue": "module 'env' has no attribute 'user'",
     "output_type": "error",
     "traceback": [
      "\u001b[0;31m---------------------------------------------------------------------------\u001b[0m",
      "\u001b[0;31mAttributeError\u001b[0m                            Traceback (most recent call last)",
      "Input \u001b[0;32mIn [5]\u001b[0m, in \u001b[0;36m<cell line: 3>\u001b[0;34m()\u001b[0m\n\u001b[1;32m      1\u001b[0m \u001b[38;5;28;01mimport\u001b[39;00m \u001b[38;5;21;01menv\u001b[39;00m\n\u001b[0;32m----> 3\u001b[0m \u001b[38;5;28;01mdef\u001b[39;00m \u001b[38;5;21mget_connection\u001b[39m(db, user\u001b[38;5;241m=\u001b[39m\u001b[43menv\u001b[49m\u001b[38;5;241;43m.\u001b[39;49m\u001b[43muser\u001b[49m, host\u001b[38;5;241m=\u001b[39menv\u001b[38;5;241m.\u001b[39mhost, password\u001b[38;5;241m=\u001b[39menv\u001b[38;5;241m.\u001b[39mpassword):\n\u001b[1;32m      4\u001b[0m     \u001b[38;5;28;01mreturn\u001b[39;00m \u001b[38;5;124mf\u001b[39m\u001b[38;5;124m'\u001b[39m\u001b[38;5;124mmysql+pymysql://\u001b[39m\u001b[38;5;132;01m{\u001b[39;00muser\u001b[38;5;132;01m}\u001b[39;00m\u001b[38;5;124m:\u001b[39m\u001b[38;5;132;01m{\u001b[39;00mpassword\u001b[38;5;132;01m}\u001b[39;00m\u001b[38;5;124m@\u001b[39m\u001b[38;5;132;01m{\u001b[39;00mhost\u001b[38;5;132;01m}\u001b[39;00m\u001b[38;5;124m/\u001b[39m\u001b[38;5;132;01m{\u001b[39;00mdb\u001b[38;5;132;01m}\u001b[39;00m\u001b[38;5;124m'\u001b[39m\n\u001b[1;32m      6\u001b[0m untidy_df \u001b[38;5;241m=\u001b[39m pd\u001b[38;5;241m.\u001b[39mread_sql(\u001b[38;5;124m'\u001b[39m\u001b[38;5;124mSELECT * FROM students\u001b[39m\u001b[38;5;124m'\u001b[39m, \n\u001b[1;32m      7\u001b[0m                         env\u001b[38;5;241m.\u001b[39mget_connection(\u001b[38;5;124m'\u001b[39m\u001b[38;5;124mtidy_data\u001b[39m\u001b[38;5;124m'\u001b[39m))\n",
      "\u001b[0;31mAttributeError\u001b[0m: module 'env' has no attribute 'user'"
     ]
    }
   ],
   "source": [
    "import env\n",
    "\n",
    "def get_connection(db, user=env.user, host=env.host, password=env.password):\n",
    "    return f'mysql+pymysql://{user}:{password}@{host}/{db}'\n",
    "    \n",
    "untidy_df = pd.read_sql('SELECT * FROM students', \n",
    "                        env.get_connection('tidy_data'))\n",
    "\n",
    "untidy_df.head()"
   ]
  },
  {
   "cell_type": "markdown",
   "metadata": {},
   "source": [
    "Notice that the `var` column contains several different variable names, and the `val` column contains the values corresponding to each. Here we would be better off with seperate columns for `n_late_from_break`, `coffee_consumption`, and `classroom_temp` were seperate columns, as they are seperate variables.\n",
    "\n",
    "Using pandas, we can make this happen in a couple ways:\n",
    "\n",
    "- `pivot`\n",
    "- setting the index and `.unstack`ing\n",
    "\n",
    "We'll demonstrate both:"
   ]
  },
  {
   "cell_type": "code",
   "execution_count": null,
   "metadata": {},
   "outputs": [],
   "source": [
    "untidy_df.pivot(index='date', columns='var').head()"
   ]
  },
  {
   "cell_type": "code",
   "execution_count": null,
   "metadata": {},
   "outputs": [],
   "source": [
    "#untidy_df.set_index(['date', 'var']).unstack(level=1).head()"
   ]
  },
  {
   "cell_type": "markdown",
   "metadata": {},
   "source": [
    "When doing this manipulation, pandas creates a `MultiIndex` for our rows and columns. In our case this isn't helping us out at all, so we can get rid of it to make working with the resulting data frame easier."
   ]
  },
  {
   "cell_type": "code",
   "execution_count": null,
   "metadata": {},
   "outputs": [],
   "source": [
    "# split the var column into multiple variables\n",
    "tidy_df = untidy_df.pivot(index='date', columns='var')\n",
    "\n",
    "# drop the 'val' index level of the dataframe returned\n",
    "tidy_df.columns = tidy_df.columns.droplevel()\n",
    "\n",
    "# change the 'var' index name given to the columns to an empty space\n",
    "tidy_df.columns.name = ''\n",
    "\n",
    "# reset the index so that date is in the body of the dataframe\n",
    "tidy_df = tidy_df.reset_index()\n",
    "tidy_df.head()"
   ]
  },
  {
   "cell_type": "markdown",
   "metadata": {},
   "source": [
    "Now we meet the third requirement of tidy data. Each observation is in one and only one row. \n",
    "\n",
    "<hr style=\"border:2px solid gray\">\n",
    "\n",
    "## Each variable is one and only one column\n",
    "\n",
    "When a single variable spans multiple columns, exploring data becomes very difficult. An example of a single variable spanning multiple columns are dummy variables. For example, when you created dummy variables from the titanic column of `embarked`, you created 3 new columns `embarked_southamption`, `embarked_sherbourg`, `embarked_queenstown`. This is an example of one variable spanning multiple columns. \n",
    "\n",
    "When you go into modeling and you have categorical variables, you will need to violate the component of \"each variable is one and only one column\" due to this need for dummy variables. But for exploration, you will want your data to be tidy. \n",
    "\n",
    "`pd.melt()` is the function to use when you need to tidy \"wide\" data like this. "
   ]
  },
  {
   "cell_type": "code",
   "execution_count": null,
   "metadata": {},
   "outputs": [],
   "source": [
    "untidy_df = pd.read_sql('SELECT * FROM sales', env.get_connection('tidy_data'))\n",
    "\n",
    "untidy_df.head()"
   ]
  },
  {
   "cell_type": "markdown",
   "metadata": {},
   "source": [
    "We will need to \"melt\" this in two parts. First, we will do the sales. Next, we will do the PPU data. Finally, we will join the two dataframes together on product and year. We want our final data frame to have the columns product, year, sales, and ppu. \n",
    "\n",
    "A melt will combine multiple columns into two columns. There are 3 key parameters when melting:\n",
    "\n",
    "- `id_vars`: Which vars should *not* be melted. If omitted, all the columns in the data frame will be melted together.\n",
    "- `var_name`: The name of the column that will hold the names of the of the columns that will be combined.\n",
    "- `value_name`: The name of the column that will hold the resulting values.\n",
    "\n",
    "In our example above, the `id_vars` should be `product`, as we *don't* want to combine this column with any others. However, we will be combining the `2016 Sales`, `2017 Sales`, and `2018 Sales` columns into one. `var_name` will be `year` as \"year\" describes the column names of the columns we are combining, which will be the contents of the new column, and the `value_name` will be `sales`, as that is what the numerical values are."
   ]
  },
  {
   "cell_type": "code",
   "execution_count": null,
   "metadata": {},
   "outputs": [],
   "source": [
    "# select the sales columns\n",
    "sales_df = untidy_df[['Product', '2016 Sales', '2017 Sales', '2018 Sales']]\n",
    "\n",
    "# rename columns in the way we want it represented as categories in the \"year\" column. \n",
    "sales_df.columns = ['product', '2016', '2017', '2018']\n",
    "\n",
    "# melt the data into 3 columns: product, year, and sales\n",
    "sales_df = sales_df.melt(id_vars=['product'], var_name='year', value_name='sales')\n",
    "\n",
    "sales_df"
   ]
  },
  {
   "cell_type": "code",
   "execution_count": null,
   "metadata": {},
   "outputs": [],
   "source": [
    "# select the ppu columns\n",
    "ppu_df = untidy_df[['Product', '2016 PPU', '2017 PPU', '2018 PPU']]\n",
    "\n",
    "# rename columns to be the years\n",
    "ppu_df.columns = ['product', '2016', '2017', '2018']\n",
    "\n",
    "# melt the data into 3 columns: product, year and ppu\n",
    "ppu_df = ppu_df.melt(id_vars=['product'], var_name='year', value_name='ppu')\n",
    "\n",
    "# merge the sales_df and ppu_df on product and year\n",
    "tidy_df = pd.merge(sales_df, ppu_df, on=['product', 'year'])\n",
    "tidy_df"
   ]
  },
  {
   "cell_type": "markdown",
   "metadata": {},
   "source": [
    "## Further Reading\n",
    "\n",
    "- [Hadley Wickham's Paper on Tidy Data](http://vita.had.co.nz/papers/tidy-data.html)\n",
    "- [pandas docs: reshaping and pivot tables](https://pandas.pydata.org/pandas-docs/stable/user_guide/reshaping.html)"
   ]
  },
  {
   "cell_type": "markdown",
   "metadata": {},
   "source": [
    "## Exercises\n",
    "\n",
    "Do your work for this exercise in a jupyter notebook or python script named `tidy_data`. Save this work in your `classification-exercises` repo. Add, commit, and push your changes.\n",
    "\n",
    "1. Attendance Data\n",
    "\n",
    "    Read the data from the `attendance` table and calculate an attendance percentage for each student. One half day is worth 50% of a full day, and 10 tardies is equal to one absence.\n",
    "    \n",
    "    You should end up with something like this:\n",
    "\n",
    "        name\n",
    "        Billy    0.5250\n",
    "        Jane     0.6875\n",
    "        John     0.9125\n",
    "        Sally    0.7625\n",
    "        Name: grade, dtype: float64\n",
    "\n",
    "2. Coffee Levels\n",
    "\n",
    "    1. Read the `coffee_levels` table.\n",
    "    1. Transform the data so that each carafe is in it's own column.\n",
    "    1. Is this the best shape for the data?\n",
    "\n",
    "3. Cake Recipes\n",
    "\n",
    "    1. Read the `cake_recipes` table. This data set contains cake tastiness scores for combinations of different recipes, oven rack positions, and oven temperatures.\n",
    "    1. Tidy the data as necessary.\n",
    "    1. Which recipe, on average, is the best? recipe b\n",
    "    1. Which oven temperature, on average, produces the best results? 275\n",
    "    1. Which combination of recipe, rack position, and temperature gives the best result? recipe b, bottom rack, 300 degrees\n",
    "\n",
    "4. **Bonus**: explore the other tables in the `tidy_data` database and reshape them as necessary so that they are in a tidy format."
   ]
  }
 ],
 "metadata": {
  "kernelspec": {
   "display_name": "Python 3 (ipykernel)",
   "language": "python",
   "name": "python3"
  },
  "language_info": {
   "codemirror_mode": {
    "name": "ipython",
    "version": 3
   },
   "file_extension": ".py",
   "mimetype": "text/x-python",
   "name": "python",
   "nbconvert_exporter": "python",
   "pygments_lexer": "ipython3",
   "version": "3.9.13"
  }
 },
 "nbformat": 4,
 "nbformat_minor": 4
}
